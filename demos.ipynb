{
 "cells": [
  {
   "cell_type": "code",
   "execution_count": 3,
   "id": "12221cd5-a349-4d50-a454-d259aebbeabe",
   "metadata": {},
   "outputs": [],
   "source": [
    "%run basic/ipytest_setup.py"
   ]
  },
  {
   "cell_type": "markdown",
   "id": "fc6d990e-f73c-4809-a3f4-3807d1ba7f17",
   "metadata": {},
   "source": [
    "# Using `match=` with `pytest.raises` "
   ]
  },
  {
   "cell_type": "code",
   "execution_count": 12,
   "id": "8e18318a-be5c-4911-8f61-f45615f256a5",
   "metadata": {},
   "outputs": [
    {
     "name": "stdout",
     "output_type": "stream",
     "text": [
      "\u001b[1m======================================= test session starts ========================================\u001b[0m\n",
      "collected 1 item\n",
      "\n",
      "t_7a2cfaf85ff441b3a09bcad66ec2bb4b.py \u001b[31mF\u001b[0m\u001b[31m                                                      [100%]\u001b[0m\n",
      "\n",
      "============================================= FAILURES =============================================\n",
      "\u001b[31m\u001b[1m_______________________________________ test_parse_negative ________________________________________\u001b[0m\n",
      "\n",
      "    \u001b[0m\u001b[94mdef\u001b[39;49;00m \u001b[92mtest_parse_negative\u001b[39;49;00m():\u001b[90m\u001b[39;49;00m\n",
      "        \u001b[94mwith\u001b[39;49;00m pytest.raises(\u001b[96mValueError\u001b[39;49;00m, match=\u001b[33mr\u001b[39;49;00m\u001b[33m\"\u001b[39;49;00m\u001b[33mNo negativity allowed!\u001b[39;49;00m\u001b[33m\"\u001b[39;49;00m):\u001b[90m\u001b[39;49;00m\n",
      ">           parse_pos_number(\u001b[33m\"\u001b[39;49;00m\u001b[33m-1a\u001b[39;49;00m\u001b[33m\"\u001b[39;49;00m)\u001b[90m\u001b[39;49;00m\n",
      "\n",
      "\u001b[1m\u001b[31m/tmp/ipykernel_117030/3770370522.py\u001b[0m:11: \n",
      "_ _ _ _ _ _ _ _ _ _ _ _ _ _ _ _ _ _ _ _ _ _ _ _ _ _ _ _ _ _ _ _ _ _ _ _ _ _ _ _ _ _ _ _ _ _ _ _ _ _ \n",
      "\n",
      "s = '-1a'\n",
      "\n",
      "    \u001b[0m\u001b[94mdef\u001b[39;49;00m \u001b[92mparse_pos_number\u001b[39;49;00m(s: \u001b[96mstr\u001b[39;49;00m) -> \u001b[96mint\u001b[39;49;00m:\u001b[90m\u001b[39;49;00m\n",
      ">       n = \u001b[96mint\u001b[39;49;00m(s)\u001b[90m\u001b[39;49;00m\n",
      "\u001b[1m\u001b[31mE       ValueError: invalid literal for int() with base 10: '-1a'\u001b[0m\n",
      "\n",
      "\u001b[1m\u001b[31m/tmp/ipykernel_117030/3770370522.py\u001b[0m:4: ValueError\n",
      "\n",
      "\u001b[33mDuring handling of the above exception, another exception occurred:\u001b[0m\n",
      "\n",
      "    \u001b[0m\u001b[94mdef\u001b[39;49;00m \u001b[92mtest_parse_negative\u001b[39;49;00m():\u001b[90m\u001b[39;49;00m\n",
      ">       \u001b[94mwith\u001b[39;49;00m pytest.raises(\u001b[96mValueError\u001b[39;49;00m, match=\u001b[33mr\u001b[39;49;00m\u001b[33m\"\u001b[39;49;00m\u001b[33mNo negativity allowed!\u001b[39;49;00m\u001b[33m\"\u001b[39;49;00m):\u001b[90m\u001b[39;49;00m\n",
      "\u001b[1m\u001b[31mE       AssertionError: Regex pattern did not match.\u001b[0m\n",
      "\u001b[1m\u001b[31mE        Regex: 'No negativity allowed!'\u001b[0m\n",
      "\u001b[1m\u001b[31mE        Input: \"invalid literal for int() with base 10: '-1a'\"\u001b[0m\n",
      "\n",
      "\u001b[1m\u001b[31m/tmp/ipykernel_117030/3770370522.py\u001b[0m:10: AssertionError\n",
      "\u001b[36m\u001b[1m===================================== short test summary info ======================================\u001b[0m\n",
      "\u001b[31mFAILED\u001b[0m t_7a2cfaf85ff441b3a09bcad66ec2bb4b.py::\u001b[1mtest_parse_negative\u001b[0m - AssertionError: Regex pattern did not match.\n",
      "\u001b[31m======================================== \u001b[31m\u001b[1m1 failed\u001b[0m\u001b[31m in 0.03s\u001b[0m\u001b[31m =========================================\u001b[0m\n"
     ]
    }
   ],
   "source": [
    "%%ipytest\n",
    "\n",
    "import pytest\n",
    "\n",
    "def parse_pos_number(s: str) -> int:\n",
    "    n = int(s)\n",
    "    if n < 0:\n",
    "        raise ValueError(\"No negativity allowed!\")\n",
    "    return n\n",
    "\n",
    "def test_parse_negative():\n",
    "    with pytest.raises(ValueError, match=r\"No negativity allowed!\"):\n",
    "        parse_pos_number(\"-1\")"
   ]
  },
  {
   "cell_type": "code",
   "execution_count": 7,
   "id": "50f4b783-54e5-45c3-9c2b-c35df2f1aa49",
   "metadata": {},
   "outputs": [
    {
     "ename": "ValueError",
     "evalue": "invalid literal for int() with base 10: 'a'",
     "output_type": "error",
     "traceback": [
      "\u001b[0;31m---------------------------------------------------------------------------\u001b[0m",
      "\u001b[0;31mValueError\u001b[0m                                Traceback (most recent call last)",
      "Cell \u001b[0;32mIn[7], line 1\u001b[0m\n\u001b[0;32m----> 1\u001b[0m \u001b[43mparse_pos_number\u001b[49m\u001b[43m(\u001b[49m\u001b[38;5;124;43m\"\u001b[39;49m\u001b[38;5;124;43ma\u001b[39;49m\u001b[38;5;124;43m\"\u001b[39;49m\u001b[43m)\u001b[49m\n",
      "Cell \u001b[0;32mIn[4], line 6\u001b[0m, in \u001b[0;36mparse_pos_number\u001b[0;34m(s)\u001b[0m\n\u001b[1;32m      5\u001b[0m \u001b[38;5;28;01mdef\u001b[39;00m \u001b[38;5;21mparse_pos_number\u001b[39m(s: \u001b[38;5;28mstr\u001b[39m) \u001b[38;5;241m-\u001b[39m\u001b[38;5;241m>\u001b[39m \u001b[38;5;28mint\u001b[39m:\n\u001b[0;32m----> 6\u001b[0m     n \u001b[38;5;241m=\u001b[39m \u001b[38;5;28;43mint\u001b[39;49m\u001b[43m(\u001b[49m\u001b[43ms\u001b[49m\u001b[43m)\u001b[49m\n\u001b[1;32m      7\u001b[0m     \u001b[38;5;28;01mif\u001b[39;00m n \u001b[38;5;241m<\u001b[39m \u001b[38;5;241m0\u001b[39m:\n\u001b[1;32m      8\u001b[0m         \u001b[38;5;28;01mraise\u001b[39;00m \u001b[38;5;167;01mValueError\u001b[39;00m(\u001b[38;5;124m\"\u001b[39m\u001b[38;5;124mNo negativity allowed!\u001b[39m\u001b[38;5;124m\"\u001b[39m)\n",
      "\u001b[0;31mValueError\u001b[0m: invalid literal for int() with base 10: 'a'"
     ]
    }
   ],
   "source": [
    "parse_pos_number(\"a\")"
   ]
  },
  {
   "cell_type": "markdown",
   "id": "8c1519b3-1e66-4cfe-8382-1d92ad208f77",
   "metadata": {},
   "source": [
    "# Using a dummy function to validate marker arguments\n",
    "\n",
    "(See slides for working code, this is a rough sketch to demonstrate the dummy function)"
   ]
  },
  {
   "cell_type": "code",
   "execution_count": null,
   "id": "b6b4d6a2-8c3b-4d43-b6f2-281867d755b9",
   "metadata": {},
   "outputs": [],
   "source": [
    "def parse_marker(a):\n",
    "    return a\n",
    "\n",
    "@pytest.fixture\n",
    "def fixt(request):\n",
    "    marker = request.node.get_closest_marker(\"...\")\n",
    "    # no argument validation:\n",
    "    # return marker[0]\n",
    "    return parse_marker(*marker.args, **marker.kwargs)"
   ]
  }
 ],
 "metadata": {
  "kernelspec": {
   "display_name": "Python 3 (ipykernel)",
   "language": "python",
   "name": "python3"
  },
  "language_info": {
   "codemirror_mode": {
    "name": "ipython",
    "version": 3
   },
   "file_extension": ".py",
   "mimetype": "text/x-python",
   "name": "python",
   "nbconvert_exporter": "python",
   "pygments_lexer": "ipython3",
   "version": "3.11.8"
  }
 },
 "nbformat": 4,
 "nbformat_minor": 5
}
